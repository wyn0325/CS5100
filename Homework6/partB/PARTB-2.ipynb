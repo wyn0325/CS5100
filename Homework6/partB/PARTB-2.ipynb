{
 "cells": [
  {
   "cell_type": "markdown",
   "source": [
    "## Data Preparation\n",
    "\n",
    "\n",
    "Data Set Characteristics(Boston Housing):\n",
    "\n",
    "    :Number of Instances: 506\n",
    "\n",
    "    :Number of Attributes: 13 numeric/categorical predictive\n",
    "\n",
    "    :Median Value (attribute 14) is usually the target\n",
    "\n",
    "    :Attribute Information (in order):\n",
    "        - CRIM     per capita crime rate by town\n",
    "        - ZN       proportion of residential land zoned for lots over 25,000 sq.ft.\n",
    "        - INDUS    proportion of non-retail business acres per town\n",
    "        - CHAS     Charles River dummy variable (= 1 if tract bounds river; 0 otherwise)\n",
    "        - NOX      nitric oxides concentration (parts per 10 million)\n",
    "        - RM       average number of rooms per dwelling\n",
    "        - AGE      proportion of owner-occupied units built prior to 1940\n",
    "        - DIS      weighted distances to five Boston employment centres\n",
    "        - RAD      index of accessibility to radial highways\n",
    "        - TAX      full-value property-tax rate per $10,000\n",
    "        - PTRATIO  pupil-teacher ratio by town\n",
    "        - B        1000(Bk - 0.63)^2 where Bk is the proportion of blacks by town\n",
    "        - LSTAT    % lower status of the population\n",
    "        - MEDV     Median value of owner-occupied homes in $1000's"
   ],
   "metadata": {
    "collapsed": false
   }
  },
  {
   "cell_type": "code",
   "execution_count": 1378,
   "outputs": [],
   "source": [
    "from sklearn.datasets import load_boston\n",
    "from sklearn.linear_model import Ridge, Lasso,LinearRegression\n",
    "from sklearn.model_selection import GridSearchCV\n",
    "from sklearn.metrics import mean_squared_error,r2_score\n",
    "from sklearn.feature_selection import RFE\n",
    "import seaborn as sns\n",
    "import matplotlib.pyplot as plt\n",
    "import pandas as pd\n",
    "\n",
    "\n",
    "boston = load_boston()\n",
    "x_data = boston.data\n",
    "y_data = boston.target\n",
    "name_data = boston.feature_names\n",
    "#X_train, X_test, Y_train, Y_test = train_test_split(x_data, y_data, test_size=0.2)\n",
    "X_train = x_data[:480]\n",
    "Y_train = y_data[:480]\n",
    "\n",
    "X_test = x_data[480:]\n",
    "Y_test = y_data[480:]"
   ],
   "metadata": {
    "collapsed": false,
    "pycharm": {
     "name": "#%%\n"
    }
   }
  },
  {
   "cell_type": "markdown",
   "source": [
    "## Model Building and Evaluation"
   ],
   "metadata": {
    "collapsed": false
   }
  },
  {
   "cell_type": "markdown",
   "source": [
    "#### Ridge"
   ],
   "metadata": {
    "collapsed": false
   }
  },
  {
   "cell_type": "code",
   "source": [
    "# list pf alphas\n",
    "\n",
    "params = {'alpha': [0.0001, 0.001, 0.01, 0.1, 0.2, 0.3, 0.4, 0.5, 0.6, 0.7, 0.8, 0.9, 1.0, 2.0, 3.0, 4.0, 5.0, 6.0, 7.0, 8.0,\n",
    "                    9.0, 10.0, 20, 50, 100, 500, 1000 ]}\n",
    "\n",
    "ridge = Ridge()\n",
    "\n",
    "# cross validation\n",
    "\n",
    "folds = 5\n",
    "ridge_model_cv = GridSearchCV(estimator = ridge,\n",
    "                        param_grid = params,\n",
    "                        scoring= 'neg_mean_absolute_error',\n",
    "                        cv = folds,\n",
    "                        return_train_score=True,\n",
    "                        verbose = 1)\n",
    "ridge_model_cv.fit(X_train, Y_train)"
   ],
   "metadata": {
    "collapsed": false,
    "pycharm": {
     "name": "#%%\n"
    }
   },
   "execution_count": 1379,
   "outputs": [
    {
     "name": "stdout",
     "output_type": "stream",
     "text": [
      "Fitting 5 folds for each of 27 candidates, totalling 135 fits\n"
     ]
    },
    {
     "name": "stderr",
     "output_type": "stream",
     "text": [
      "[Parallel(n_jobs=1)]: Using backend SequentialBackend with 1 concurrent workers.\n",
      "[Parallel(n_jobs=1)]: Done 135 out of 135 | elapsed:    0.9s finished\n"
     ]
    },
    {
     "data": {
      "text/plain": "GridSearchCV(cv=5, estimator=Ridge(),\n             param_grid={'alpha': [0.0001, 0.001, 0.01, 0.1, 0.2, 0.3, 0.4, 0.5,\n                                   0.6, 0.7, 0.8, 0.9, 1.0, 2.0, 3.0, 4.0, 5.0,\n                                   6.0, 7.0, 8.0, 9.0, 10.0, 20, 50, 100, 500,\n                                   1000]},\n             return_train_score=True, scoring='neg_mean_absolute_error',\n             verbose=1)"
     },
     "execution_count": 1379,
     "metadata": {},
     "output_type": "execute_result"
    }
   ]
  },
  {
   "cell_type": "code",
   "execution_count": 1380,
   "outputs": [
    {
     "data": {
      "text/plain": "   param_alpha  mean_train_score  mean_test_score  rank_test_score\n24         100         -3.427951        -4.196406                1\n23          50         -3.364599        -4.235538                2\n25         500         -3.624631        -4.274836                3\n22          20         -3.312540        -4.302061                4\n21          10         -3.289933        -4.350993                5\n20           9         -3.286985        -4.357811                6\n19           8         -3.283779        -4.366592                7\n18           7         -3.280324        -4.376791                9\n17           6         -3.276422        -4.388971               10\n16           5         -3.271956        -4.403622               11\n15           4         -3.266726        -4.422464               12\n14           3         -3.260009        -4.447399               13\n13           2         -3.251407        -4.483070               14\n12           1         -3.240377        -4.551864               15\n11         0.9         -3.239231        -4.563000               16\n10         0.8         -3.238067        -4.576383               17\n9          0.7         -3.237200        -4.592007               18\n8          0.6         -3.236648        -4.610985               19\n7          0.5         -3.236449        -4.633861               20\n6          0.4         -3.236790        -4.660348               21\n5          0.3         -3.238037        -4.691117               22\n4          0.2         -3.240789        -4.727779               23\n3          0.1         -3.245163        -4.772862               24\n2         0.01         -3.251939        -4.823659               25\n1        0.001         -3.252813        -4.829617               26\n0       0.0001         -3.252902        -4.830220               27",
      "text/html": "<div>\n<style scoped>\n    .dataframe tbody tr th:only-of-type {\n        vertical-align: middle;\n    }\n\n    .dataframe tbody tr th {\n        vertical-align: top;\n    }\n\n    .dataframe thead th {\n        text-align: right;\n    }\n</style>\n<table border=\"1\" class=\"dataframe\">\n  <thead>\n    <tr style=\"text-align: right;\">\n      <th></th>\n      <th>param_alpha</th>\n      <th>mean_train_score</th>\n      <th>mean_test_score</th>\n      <th>rank_test_score</th>\n    </tr>\n  </thead>\n  <tbody>\n    <tr>\n      <th>24</th>\n      <td>100</td>\n      <td>-3.427951</td>\n      <td>-4.196406</td>\n      <td>1</td>\n    </tr>\n    <tr>\n      <th>23</th>\n      <td>50</td>\n      <td>-3.364599</td>\n      <td>-4.235538</td>\n      <td>2</td>\n    </tr>\n    <tr>\n      <th>25</th>\n      <td>500</td>\n      <td>-3.624631</td>\n      <td>-4.274836</td>\n      <td>3</td>\n    </tr>\n    <tr>\n      <th>22</th>\n      <td>20</td>\n      <td>-3.312540</td>\n      <td>-4.302061</td>\n      <td>4</td>\n    </tr>\n    <tr>\n      <th>21</th>\n      <td>10</td>\n      <td>-3.289933</td>\n      <td>-4.350993</td>\n      <td>5</td>\n    </tr>\n    <tr>\n      <th>20</th>\n      <td>9</td>\n      <td>-3.286985</td>\n      <td>-4.357811</td>\n      <td>6</td>\n    </tr>\n    <tr>\n      <th>19</th>\n      <td>8</td>\n      <td>-3.283779</td>\n      <td>-4.366592</td>\n      <td>7</td>\n    </tr>\n    <tr>\n      <th>18</th>\n      <td>7</td>\n      <td>-3.280324</td>\n      <td>-4.376791</td>\n      <td>9</td>\n    </tr>\n    <tr>\n      <th>17</th>\n      <td>6</td>\n      <td>-3.276422</td>\n      <td>-4.388971</td>\n      <td>10</td>\n    </tr>\n    <tr>\n      <th>16</th>\n      <td>5</td>\n      <td>-3.271956</td>\n      <td>-4.403622</td>\n      <td>11</td>\n    </tr>\n    <tr>\n      <th>15</th>\n      <td>4</td>\n      <td>-3.266726</td>\n      <td>-4.422464</td>\n      <td>12</td>\n    </tr>\n    <tr>\n      <th>14</th>\n      <td>3</td>\n      <td>-3.260009</td>\n      <td>-4.447399</td>\n      <td>13</td>\n    </tr>\n    <tr>\n      <th>13</th>\n      <td>2</td>\n      <td>-3.251407</td>\n      <td>-4.483070</td>\n      <td>14</td>\n    </tr>\n    <tr>\n      <th>12</th>\n      <td>1</td>\n      <td>-3.240377</td>\n      <td>-4.551864</td>\n      <td>15</td>\n    </tr>\n    <tr>\n      <th>11</th>\n      <td>0.9</td>\n      <td>-3.239231</td>\n      <td>-4.563000</td>\n      <td>16</td>\n    </tr>\n    <tr>\n      <th>10</th>\n      <td>0.8</td>\n      <td>-3.238067</td>\n      <td>-4.576383</td>\n      <td>17</td>\n    </tr>\n    <tr>\n      <th>9</th>\n      <td>0.7</td>\n      <td>-3.237200</td>\n      <td>-4.592007</td>\n      <td>18</td>\n    </tr>\n    <tr>\n      <th>8</th>\n      <td>0.6</td>\n      <td>-3.236648</td>\n      <td>-4.610985</td>\n      <td>19</td>\n    </tr>\n    <tr>\n      <th>7</th>\n      <td>0.5</td>\n      <td>-3.236449</td>\n      <td>-4.633861</td>\n      <td>20</td>\n    </tr>\n    <tr>\n      <th>6</th>\n      <td>0.4</td>\n      <td>-3.236790</td>\n      <td>-4.660348</td>\n      <td>21</td>\n    </tr>\n    <tr>\n      <th>5</th>\n      <td>0.3</td>\n      <td>-3.238037</td>\n      <td>-4.691117</td>\n      <td>22</td>\n    </tr>\n    <tr>\n      <th>4</th>\n      <td>0.2</td>\n      <td>-3.240789</td>\n      <td>-4.727779</td>\n      <td>23</td>\n    </tr>\n    <tr>\n      <th>3</th>\n      <td>0.1</td>\n      <td>-3.245163</td>\n      <td>-4.772862</td>\n      <td>24</td>\n    </tr>\n    <tr>\n      <th>2</th>\n      <td>0.01</td>\n      <td>-3.251939</td>\n      <td>-4.823659</td>\n      <td>25</td>\n    </tr>\n    <tr>\n      <th>1</th>\n      <td>0.001</td>\n      <td>-3.252813</td>\n      <td>-4.829617</td>\n      <td>26</td>\n    </tr>\n    <tr>\n      <th>0</th>\n      <td>0.0001</td>\n      <td>-3.252902</td>\n      <td>-4.830220</td>\n      <td>27</td>\n    </tr>\n  </tbody>\n</table>\n</div>"
     },
     "execution_count": 1380,
     "metadata": {},
     "output_type": "execute_result"
    }
   ],
   "source": [
    "# display the mean scores\n",
    "\n",
    "ridge_cv_results = pd.DataFrame(ridge_model_cv.cv_results_)\n",
    "ridge_cv_results = ridge_cv_results[ridge_cv_results['param_alpha']<=500]\n",
    "ridge_cv_results[['param_alpha', 'mean_train_score', 'mean_test_score', 'rank_test_score']].sort_values(by = ['rank_test_score'])"
   ],
   "metadata": {
    "collapsed": false,
    "pycharm": {
     "name": "#%%\n"
    }
   }
  },
  {
   "cell_type": "code",
   "source": [
    "# plotting mean test and train scoes with alpha\n",
    "\n",
    "ridge_cv_results['param_alpha'] = ridge_cv_results['param_alpha'].astype('int32')\n",
    "\n",
    "# plotting\n",
    "\n",
    "plt.plot(ridge_cv_results['param_alpha'], ridge_cv_results['mean_train_score'])\n",
    "plt.plot(ridge_cv_results['param_alpha'], ridge_cv_results['mean_test_score'])\n",
    "plt.xlabel('alpha')\n",
    "plt.ylabel('Negative Mean Absolute Error')\n",
    "plt.title(\"Negative Mean Absolute Error and alpha\")\n",
    "plt.legend(['train score', 'test score'], loc='upper right')\n",
    "plt.show()"
   ],
   "metadata": {
    "collapsed": false,
    "pycharm": {
     "name": "#%%\n"
    }
   },
   "execution_count": 1381,
   "outputs": [
    {
     "data": {
      "text/plain": "<Figure size 432x288 with 1 Axes>",
      "image/png": "[encoded data removed]"
     },
     "metadata": {
      "needs_background": "light"
     },
     "output_type": "display_data"
    }
   ]
  },
  {
   "cell_type": "code",
   "execution_count": 1382,
   "outputs": [
    {
     "data": {
      "text/plain": "Ridge(alpha=100)"
     },
     "execution_count": 1382,
     "metadata": {},
     "output_type": "execute_result"
    }
   ],
   "source": [
    "# get the best estimator for lambda\n",
    "\n",
    "ridge_model_cv.best_estimator_"
   ],
   "metadata": {
    "collapsed": false,
    "pycharm": {
     "name": "#%%\n"
    }
   }
  },
  {
   "cell_type": "code",
   "source": [
    "# check the coefficient values with lambda = 100\n",
    "\n",
    "alpha = 100\n",
    "ridge = Ridge(alpha=alpha)\n",
    "\n",
    "ridge.fit(X_train, Y_train)\n",
    "ridge.coef_"
   ],
   "metadata": {
    "collapsed": false,
    "pycharm": {
     "name": "#%%\n"
    }
   },
   "execution_count": 1383,
   "outputs": [
    {
     "data": {
      "text/plain": "array([-0.09593857,  0.05760734, -0.05284695,  0.609974  , -0.23551779,\n        2.28583276,  0.00873299, -1.1661815 ,  0.39091358, -0.02082323,\n       -0.78386173,  0.00891141, -0.68961391])"
     },
     "execution_count": 1383,
     "metadata": {},
     "output_type": "execute_result"
    }
   ]
  },
  {
   "cell_type": "code",
   "execution_count": 1384,
   "outputs": [
    {
     "name": "stdout",
     "output_type": "stream",
     "text": [
      "20.174166081762703\n",
      "0.0666072405198308\n"
     ]
    }
   ],
   "source": [
    "# Evaluate the model\n",
    "ridge_y_pre=ridge.predict(X_test)\n",
    "print(mean_squared_error(Y_test, ridge.predict(X_test)))\n",
    "print(r2_score(Y_test,ridge_y_pre))"
   ],
   "metadata": {
    "collapsed": false,
    "pycharm": {
     "name": "#%%\n"
    }
   }
  },
  {
   "cell_type": "code",
   "source": [
    "# Put the Features and coefficienst in a dataframe\n",
    "\n",
    "ridge_df = pd.DataFrame({'Features':name_data, 'Coefficient':ridge.coef_.round(4)})\n",
    "ridge_df.reset_index(drop=True, inplace=True)\n",
    "ridge_df"
   ],
   "metadata": {
    "collapsed": false,
    "pycharm": {
     "name": "#%%\n"
    }
   },
   "execution_count": 1385,
   "outputs": [
    {
     "data": {
      "text/plain": "   Features  Coefficient\n0      CRIM      -0.0959\n1        ZN       0.0576\n2     INDUS      -0.0528\n3      CHAS       0.6100\n4       NOX      -0.2355\n5        RM       2.2858\n6       AGE       0.0087\n7       DIS      -1.1662\n8       RAD       0.3909\n9       TAX      -0.0208\n10  PTRATIO      -0.7839\n11        B       0.0089\n12    LSTAT      -0.6896",
      "text/html": "<div>\n<style scoped>\n    .dataframe tbody tr th:only-of-type {\n        vertical-align: middle;\n    }\n\n    .dataframe tbody tr th {\n        vertical-align: top;\n    }\n\n    .dataframe thead th {\n        text-align: right;\n    }\n</style>\n<table border=\"1\" class=\"dataframe\">\n  <thead>\n    <tr style=\"text-align: right;\">\n      <th></th>\n      <th>Features</th>\n      <th>Coefficient</th>\n    </tr>\n  </thead>\n  <tbody>\n    <tr>\n      <th>0</th>\n      <td>CRIM</td>\n      <td>-0.0959</td>\n    </tr>\n    <tr>\n      <th>1</th>\n      <td>ZN</td>\n      <td>0.0576</td>\n    </tr>\n    <tr>\n      <th>2</th>\n      <td>INDUS</td>\n      <td>-0.0528</td>\n    </tr>\n    <tr>\n      <th>3</th>\n      <td>CHAS</td>\n      <td>0.6100</td>\n    </tr>\n    <tr>\n      <th>4</th>\n      <td>NOX</td>\n      <td>-0.2355</td>\n    </tr>\n    <tr>\n      <th>5</th>\n      <td>RM</td>\n      <td>2.2858</td>\n    </tr>\n    <tr>\n      <th>6</th>\n      <td>AGE</td>\n      <td>0.0087</td>\n    </tr>\n    <tr>\n      <th>7</th>\n      <td>DIS</td>\n      <td>-1.1662</td>\n    </tr>\n    <tr>\n      <th>8</th>\n      <td>RAD</td>\n      <td>0.3909</td>\n    </tr>\n    <tr>\n      <th>9</th>\n      <td>TAX</td>\n      <td>-0.0208</td>\n    </tr>\n    <tr>\n      <th>10</th>\n      <td>PTRATIO</td>\n      <td>-0.7839</td>\n    </tr>\n    <tr>\n      <th>11</th>\n      <td>B</td>\n      <td>0.0089</td>\n    </tr>\n    <tr>\n      <th>12</th>\n      <td>LSTAT</td>\n      <td>-0.6896</td>\n    </tr>\n  </tbody>\n</table>\n</div>"
     },
     "execution_count": 1385,
     "metadata": {},
     "output_type": "execute_result"
    }
   ]
  },
  {
   "cell_type": "code",
   "source": [
    "# Assign the Features and their coefficient values to a dictionary which would be used while plotting the bar plot\n",
    "\n",
    "ridge_coeff_dict = dict(pd.Series(ridge.coef_.round(4), index = name_data))\n",
    "ridge_coeff_dict"
   ],
   "metadata": {
    "collapsed": false,
    "pycharm": {
     "name": "#%%\n"
    }
   },
   "execution_count": 1386,
   "outputs": [
    {
     "data": {
      "text/plain": "{'CRIM': -0.0959,\n 'ZN': 0.0576,\n 'INDUS': -0.0528,\n 'CHAS': 0.61,\n 'NOX': -0.2355,\n 'RM': 2.2858,\n 'AGE': 0.0087,\n 'DIS': -1.1662,\n 'RAD': 0.3909,\n 'TAX': -0.0208,\n 'PTRATIO': -0.7839,\n 'B': 0.0089,\n 'LSTAT': -0.6896}"
     },
     "execution_count": 1386,
     "metadata": {},
     "output_type": "execute_result"
    }
   ]
  },
  {
   "cell_type": "markdown",
   "source": [
    "#### RFE"
   ],
   "metadata": {
    "collapsed": false
   }
  },
  {
   "cell_type": "code",
   "source": [
    "# Do an RFE to minimise the features to 5\n",
    "\n",
    "lm = LinearRegression()\n",
    "lm.fit(X_train, Y_train)\n",
    "\n",
    "# running RFE\n",
    "rfe = RFE(lm, n_features_to_select=13)\n",
    "rfe = rfe.fit(X_train, Y_train)"
   ],
   "metadata": {
    "collapsed": false,
    "pycharm": {
     "name": "#%%\n"
    }
   },
   "execution_count": 1387,
   "outputs": []
  },
  {
   "cell_type": "code",
   "source": [
    "# Method to get the coefficient values\n",
    "\n",
    "def find(x):\n",
    "    return ridge_coeff_dict[x]\n",
    "\n",
    "# Assign features to a temp dataframe for further display in the bar plot\n",
    "# coef bigger than 0\n",
    "\n",
    "temp1_df = pd.DataFrame(list(zip( name_data, rfe.support_, rfe.ranking_)), columns=['Features', 'rfe_support', 'rfe_ranking'])\n",
    "temp1_df = temp1_df.loc[temp1_df['rfe_support'] == True]\n",
    "temp1_df.reset_index(drop=True, inplace=True)\n",
    "\n",
    "temp1_df['Coefficient'] = temp1_df['Features'].apply(find)\n",
    "temp1_df = temp1_df[temp1_df['Coefficient']>0]\n",
    "temp1_df = temp1_df.sort_values(by=['Coefficient'], ascending=False)\n",
    "temp1_df"
   ],
   "metadata": {
    "collapsed": false,
    "pycharm": {
     "name": "#%%\n"
    }
   },
   "execution_count": 1388,
   "outputs": [
    {
     "data": {
      "text/plain": "   Features  rfe_support  rfe_ranking  Coefficient\n5        RM         True            1       2.2858\n3      CHAS         True            1       0.6100\n8       RAD         True            1       0.3909\n1        ZN         True            1       0.0576\n11        B         True            1       0.0089\n6       AGE         True            1       0.0087",
      "text/html": "<div>\n<style scoped>\n    .dataframe tbody tr th:only-of-type {\n        vertical-align: middle;\n    }\n\n    .dataframe tbody tr th {\n        vertical-align: top;\n    }\n\n    .dataframe thead th {\n        text-align: right;\n    }\n</style>\n<table border=\"1\" class=\"dataframe\">\n  <thead>\n    <tr style=\"text-align: right;\">\n      <th></th>\n      <th>Features</th>\n      <th>rfe_support</th>\n      <th>rfe_ranking</th>\n      <th>Coefficient</th>\n    </tr>\n  </thead>\n  <tbody>\n    <tr>\n      <th>5</th>\n      <td>RM</td>\n      <td>True</td>\n      <td>1</td>\n      <td>2.2858</td>\n    </tr>\n    <tr>\n      <th>3</th>\n      <td>CHAS</td>\n      <td>True</td>\n      <td>1</td>\n      <td>0.6100</td>\n    </tr>\n    <tr>\n      <th>8</th>\n      <td>RAD</td>\n      <td>True</td>\n      <td>1</td>\n      <td>0.3909</td>\n    </tr>\n    <tr>\n      <th>1</th>\n      <td>ZN</td>\n      <td>True</td>\n      <td>1</td>\n      <td>0.0576</td>\n    </tr>\n    <tr>\n      <th>11</th>\n      <td>B</td>\n      <td>True</td>\n      <td>1</td>\n      <td>0.0089</td>\n    </tr>\n    <tr>\n      <th>6</th>\n      <td>AGE</td>\n      <td>True</td>\n      <td>1</td>\n      <td>0.0087</td>\n    </tr>\n  </tbody>\n</table>\n</div>"
     },
     "execution_count": 1388,
     "metadata": {},
     "output_type": "execute_result"
    }
   ]
  },
  {
   "cell_type": "code",
   "source": [
    "# bar plot to determine the variables that would affect pricing most using ridge regression\n",
    "\n",
    "plt.figure(figsize=(20,20))\n",
    "plt.subplot(4,3,1)\n",
    "sns.barplot(y = 'Features', x='Coefficient', palette='Set1', data = temp1_df)\n",
    "plt.show()"
   ],
   "metadata": {
    "collapsed": false,
    "pycharm": {
     "name": "#%%\n"
    }
   },
   "execution_count": 1389,
   "outputs": [
    {
     "data": {
      "text/plain": "<Figure size 1440x1440 with 1 Axes>",
      "image/png": "[encoded data removed]"
     },
     "metadata": {
      "needs_background": "light"
     },
     "output_type": "display_data"
    }
   ]
  },
  {
   "cell_type": "markdown",
   "source": [
    "The above graph displays the top 10 variables based on the Ridge Regression model that are significant in predicting the price\n",
    "of a house."
   ],
   "metadata": {
    "collapsed": false
   }
  },
  {
   "cell_type": "markdown",
   "source": [
    "#### Lasso"
   ],
   "metadata": {
    "collapsed": false
   }
  },
  {
   "cell_type": "code",
   "execution_count": 1390,
   "outputs": [
    {
     "name": "stdout",
     "output_type": "stream",
     "text": [
      "Fitting 5 folds for each of 11 candidates, totalling 55 fits\n"
     ]
    },
    {
     "name": "stderr",
     "output_type": "stream",
     "text": [
      "[Parallel(n_jobs=1)]: Using backend SequentialBackend with 1 concurrent workers.\n",
      "[Parallel(n_jobs=1)]: Done  55 out of  55 | elapsed:    0.3s finished\n"
     ]
    },
    {
     "data": {
      "text/plain": "GridSearchCV(cv=5, estimator=Lasso(),\n             param_grid={'alpha': [0.0001, 0.0002, 0.0003, 0.0004, 0.0005,\n                                   0.001, 0.002, 0.003, 0.004, 0.005, 0.01]},\n             return_train_score=True, scoring='neg_mean_absolute_error',\n             verbose=1)"
     },
     "execution_count": 1390,
     "metadata": {},
     "output_type": "execute_result"
    }
   ],
   "source": [
    "lasso = Lasso()\n",
    "\n",
    "# list of alphas\n",
    "\n",
    "params = {'alpha': [0.0001, 0.0002, 0.0003, 0.0004, 0.0005, 0.001, 0.002, 0.003, 0.004, 0.005, 0.01]}\n",
    "\n",
    "# cross validation\n",
    "\n",
    "folds = 5\n",
    "lasso_model_cv = GridSearchCV(estimator = lasso,\n",
    "                        param_grid = params,\n",
    "                        scoring= 'neg_mean_absolute_error',\n",
    "                        cv = folds,\n",
    "                        return_train_score=True,\n",
    "                        verbose = 1)\n",
    "\n",
    "lasso_model_cv.fit(X_train, Y_train)"
   ],
   "metadata": {
    "collapsed": false,
    "pycharm": {
     "name": "#%%\n"
    }
   }
  },
  {
   "cell_type": "code",
   "execution_count": 1391,
   "outputs": [
    {
     "data": {
      "text/plain": "   param_alpha  mean_train_score  mean_test_score  rank_test_score\n10        0.01         -3.238142        -4.706123                1\n9        0.005         -3.243944        -4.766589                2\n8        0.004         -3.245423        -4.778898                3\n7        0.003         -3.247101        -4.791215                4\n6        0.002         -3.248928        -4.803958                5\n5        0.001         -3.250875        -4.817075                6\n4       0.0005         -3.251889        -4.823681                7\n3       0.0004         -3.252093        -4.825002                8\n2       0.0003         -3.252298        -4.826323                9\n1       0.0002         -3.252502        -4.827645               10\n0       0.0001         -3.252706        -4.828966               11",
      "text/html": "<div>\n<style scoped>\n    .dataframe tbody tr th:only-of-type {\n        vertical-align: middle;\n    }\n\n    .dataframe tbody tr th {\n        vertical-align: top;\n    }\n\n    .dataframe thead th {\n        text-align: right;\n    }\n</style>\n<table border=\"1\" class=\"dataframe\">\n  <thead>\n    <tr style=\"text-align: right;\">\n      <th></th>\n      <th>param_alpha</th>\n      <th>mean_train_score</th>\n      <th>mean_test_score</th>\n      <th>rank_test_score</th>\n    </tr>\n  </thead>\n  <tbody>\n    <tr>\n      <th>10</th>\n      <td>0.01</td>\n      <td>-3.238142</td>\n      <td>-4.706123</td>\n      <td>1</td>\n    </tr>\n    <tr>\n      <th>9</th>\n      <td>0.005</td>\n      <td>-3.243944</td>\n      <td>-4.766589</td>\n      <td>2</td>\n    </tr>\n    <tr>\n      <th>8</th>\n      <td>0.004</td>\n      <td>-3.245423</td>\n      <td>-4.778898</td>\n      <td>3</td>\n    </tr>\n    <tr>\n      <th>7</th>\n      <td>0.003</td>\n      <td>-3.247101</td>\n      <td>-4.791215</td>\n      <td>4</td>\n    </tr>\n    <tr>\n      <th>6</th>\n      <td>0.002</td>\n      <td>-3.248928</td>\n      <td>-4.803958</td>\n      <td>5</td>\n    </tr>\n    <tr>\n      <th>5</th>\n      <td>0.001</td>\n      <td>-3.250875</td>\n      <td>-4.817075</td>\n      <td>6</td>\n    </tr>\n    <tr>\n      <th>4</th>\n      <td>0.0005</td>\n      <td>-3.251889</td>\n      <td>-4.823681</td>\n      <td>7</td>\n    </tr>\n    <tr>\n      <th>3</th>\n      <td>0.0004</td>\n      <td>-3.252093</td>\n      <td>-4.825002</td>\n      <td>8</td>\n    </tr>\n    <tr>\n      <th>2</th>\n      <td>0.0003</td>\n      <td>-3.252298</td>\n      <td>-4.826323</td>\n      <td>9</td>\n    </tr>\n    <tr>\n      <th>1</th>\n      <td>0.0002</td>\n      <td>-3.252502</td>\n      <td>-4.827645</td>\n      <td>10</td>\n    </tr>\n    <tr>\n      <th>0</th>\n      <td>0.0001</td>\n      <td>-3.252706</td>\n      <td>-4.828966</td>\n      <td>11</td>\n    </tr>\n  </tbody>\n</table>\n</div>"
     },
     "execution_count": 1391,
     "metadata": {},
     "output_type": "execute_result"
    }
   ],
   "source": [
    "# display the mean scores\n",
    "\n",
    "lasso_cv_results = pd.DataFrame(lasso_model_cv.cv_results_)\n",
    "lasso_cv_results[['param_alpha', 'mean_train_score', 'mean_test_score', 'rank_test_score']].sort_values(by = ['rank_test_score'])"
   ],
   "metadata": {
    "collapsed": false,
    "pycharm": {
     "name": "#%%\n"
    }
   }
  },
  {
   "cell_type": "code",
   "execution_count": 1392,
   "outputs": [
    {
     "data": {
      "text/plain": "<Figure size 432x288 with 1 Axes>",
      "image/png": "[encoded data removed]"
     },
     "metadata": {
      "needs_background": "light"
     },
     "output_type": "display_data"
    }
   ],
   "source": [
    "# plotting mean test and train scoes with alpha\n",
    "\n",
    "lasso_cv_results['param_alpha'] = lasso_cv_results['param_alpha'].astype('float64')\n",
    "\n",
    "# plotting\n",
    "\n",
    "plt.plot(lasso_cv_results['param_alpha'], lasso_cv_results['mean_train_score'])\n",
    "plt.plot(lasso_cv_results['param_alpha'], lasso_cv_results['mean_test_score'])\n",
    "plt.xlabel('alpha')\n",
    "plt.ylabel('Negative Mean Absolute Error')\n",
    "\n",
    "plt.title(\"Negative Mean Absolute Error and alpha\")\n",
    "plt.legend(['train score', 'test score'], loc='upper right')\n",
    "plt.show()"
   ],
   "metadata": {
    "collapsed": false,
    "pycharm": {
     "name": "#%%\n"
    }
   }
  },
  {
   "cell_type": "code",
   "execution_count": 1393,
   "outputs": [
    {
     "data": {
      "text/plain": "Lasso(alpha=0.01)"
     },
     "execution_count": 1393,
     "metadata": {},
     "output_type": "execute_result"
    }
   ],
   "source": [
    "# get the best estimator for lambda\n",
    "\n",
    "lasso_model_cv.best_estimator_"
   ],
   "metadata": {
    "collapsed": false,
    "pycharm": {
     "name": "#%%\n"
    }
   }
  },
  {
   "cell_type": "code",
   "execution_count": 1394,
   "outputs": [
    {
     "data": {
      "text/plain": "array([-1.01188996e-01,  4.95932486e-02,  1.27821769e-02,  2.39149056e+00,\n       -1.37946371e+01,  3.79027362e+00,  5.14872502e-03, -1.40243044e+00,\n        3.49933481e-01, -1.61461793e-02, -8.68454291e-01,  9.24726215e-03,\n       -5.61207784e-01])"
     },
     "execution_count": 1394,
     "metadata": {},
     "output_type": "execute_result"
    }
   ],
   "source": [
    "# check the coefficient values with lambda = 0.01\n",
    "\n",
    "alpha = 0.01\n",
    "\n",
    "lasso = Lasso(alpha=alpha)\n",
    "\n",
    "lasso.fit(X_train, Y_train)\n",
    "lasso.coef_"
   ],
   "metadata": {
    "collapsed": false,
    "pycharm": {
     "name": "#%%\n"
    }
   }
  },
  {
   "cell_type": "code",
   "execution_count": 1395,
   "outputs": [
    {
     "name": "stdout",
     "output_type": "stream",
     "text": [
      "15.375250131477127\n",
      "0.2886374044035158\n"
     ]
    }
   ],
   "source": [
    "# Evaluate the model\n",
    "lasso_y_pre=lasso.predict(X_test)\n",
    "print(mean_squared_error(Y_test, lasso.predict(X_test)))\n",
    "print(r2_score(Y_test,lasso_y_pre))"
   ],
   "metadata": {
    "collapsed": false,
    "pycharm": {
     "name": "#%%\n"
    }
   }
  },
  {
   "cell_type": "code",
   "execution_count": 1396,
   "outputs": [
    {
     "data": {
      "text/plain": "   Features  Coefficient\n0      CRIM      -0.1012\n1        ZN       0.0496\n2     INDUS       0.0128\n3      CHAS       2.3915\n4       NOX     -13.7946\n5        RM       3.7903\n6       AGE       0.0051\n7       DIS      -1.4024\n8       RAD       0.3499\n9       TAX      -0.0161\n10  PTRATIO      -0.8685\n11        B       0.0092\n12    LSTAT      -0.5612",
      "text/html": "<div>\n<style scoped>\n    .dataframe tbody tr th:only-of-type {\n        vertical-align: middle;\n    }\n\n    .dataframe tbody tr th {\n        vertical-align: top;\n    }\n\n    .dataframe thead th {\n        text-align: right;\n    }\n</style>\n<table border=\"1\" class=\"dataframe\">\n  <thead>\n    <tr style=\"text-align: right;\">\n      <th></th>\n      <th>Features</th>\n      <th>Coefficient</th>\n    </tr>\n  </thead>\n  <tbody>\n    <tr>\n      <th>0</th>\n      <td>CRIM</td>\n      <td>-0.1012</td>\n    </tr>\n    <tr>\n      <th>1</th>\n      <td>ZN</td>\n      <td>0.0496</td>\n    </tr>\n    <tr>\n      <th>2</th>\n      <td>INDUS</td>\n      <td>0.0128</td>\n    </tr>\n    <tr>\n      <th>3</th>\n      <td>CHAS</td>\n      <td>2.3915</td>\n    </tr>\n    <tr>\n      <th>4</th>\n      <td>NOX</td>\n      <td>-13.7946</td>\n    </tr>\n    <tr>\n      <th>5</th>\n      <td>RM</td>\n      <td>3.7903</td>\n    </tr>\n    <tr>\n      <th>6</th>\n      <td>AGE</td>\n      <td>0.0051</td>\n    </tr>\n    <tr>\n      <th>7</th>\n      <td>DIS</td>\n      <td>-1.4024</td>\n    </tr>\n    <tr>\n      <th>8</th>\n      <td>RAD</td>\n      <td>0.3499</td>\n    </tr>\n    <tr>\n      <th>9</th>\n      <td>TAX</td>\n      <td>-0.0161</td>\n    </tr>\n    <tr>\n      <th>10</th>\n      <td>PTRATIO</td>\n      <td>-0.8685</td>\n    </tr>\n    <tr>\n      <th>11</th>\n      <td>B</td>\n      <td>0.0092</td>\n    </tr>\n    <tr>\n      <th>12</th>\n      <td>LSTAT</td>\n      <td>-0.5612</td>\n    </tr>\n  </tbody>\n</table>\n</div>"
     },
     "execution_count": 1396,
     "metadata": {},
     "output_type": "execute_result"
    }
   ],
   "source": [
    "# Put the shortlisted Features and coefficienst in a dataframe\n",
    "\n",
    "lasso_df = pd.DataFrame({'Features':name_data, 'Coefficient':lasso.coef_.round(4)})\n",
    "lasso_df = lasso_df[lasso_df['Coefficient'] != 0.00]\n",
    "lasso_df.reset_index(drop=True, inplace=True)\n",
    "lasso_df"
   ],
   "metadata": {
    "collapsed": false,
    "pycharm": {
     "name": "#%%\n"
    }
   }
  },
  {
   "cell_type": "code",
   "execution_count": 1397,
   "outputs": [
    {
     "data": {
      "text/plain": "{'CRIM': -0.10118899606467922,\n 'ZN': 0.04959324864621967,\n 'INDUS': 0.012782176938266691,\n 'CHAS': 2.3914905646193128,\n 'NOX': -13.79463712815093,\n 'RM': 3.7902736209142334,\n 'AGE': 0.0051487250213798595,\n 'DIS': -1.4024304391854927,\n 'RAD': 0.34993348058755724,\n 'TAX': -0.016146179278044636,\n 'PTRATIO': -0.8684542905255719,\n 'B': 0.009247262153238112,\n 'LSTAT': -0.5612077840868572}"
     },
     "execution_count": 1397,
     "metadata": {},
     "output_type": "execute_result"
    }
   ],
   "source": [
    "# Put the Features and Coefficients in dictionary\n",
    "\n",
    "lasso_coeff_dict = dict(pd.Series(lasso.coef_, index = name_data))\n",
    "lasso_coeff_dict"
   ],
   "metadata": {
    "collapsed": false,
    "pycharm": {
     "name": "#%%\n"
    }
   }
  },
  {
   "cell_type": "markdown",
   "source": [
    "#### RFE"
   ],
   "metadata": {
    "collapsed": false
   }
  },
  {
   "cell_type": "code",
   "execution_count": 1398,
   "outputs": [],
   "source": [
    "# Do an RFE to minimise the features to 15\n",
    "\n",
    "\n",
    "lm = LinearRegression()\n",
    "lm.fit(X_train, Y_train)\n",
    "\n",
    "# running RFE\n",
    "\n",
    "rfe = RFE(lm, n_features_to_select=13)\n",
    "rfe = rfe.fit(X_train, Y_train)"
   ],
   "metadata": {
    "collapsed": false,
    "pycharm": {
     "name": "#%%\n"
    }
   }
  },
  {
   "cell_type": "code",
   "execution_count": 1399,
   "outputs": [
    {
     "data": {
      "text/plain": "   Features  rfe_support  rfe_ranking  Coefficient\n5        RM         True            1     3.790274\n3      CHAS         True            1     2.391491\n8       RAD         True            1     0.349933\n1        ZN         True            1     0.049593\n2     INDUS         True            1     0.012782\n11        B         True            1     0.009247\n6       AGE         True            1     0.005149",
      "text/html": "<div>\n<style scoped>\n    .dataframe tbody tr th:only-of-type {\n        vertical-align: middle;\n    }\n\n    .dataframe tbody tr th {\n        vertical-align: top;\n    }\n\n    .dataframe thead th {\n        text-align: right;\n    }\n</style>\n<table border=\"1\" class=\"dataframe\">\n  <thead>\n    <tr style=\"text-align: right;\">\n      <th></th>\n      <th>Features</th>\n      <th>rfe_support</th>\n      <th>rfe_ranking</th>\n      <th>Coefficient</th>\n    </tr>\n  </thead>\n  <tbody>\n    <tr>\n      <th>5</th>\n      <td>RM</td>\n      <td>True</td>\n      <td>1</td>\n      <td>3.790274</td>\n    </tr>\n    <tr>\n      <th>3</th>\n      <td>CHAS</td>\n      <td>True</td>\n      <td>1</td>\n      <td>2.391491</td>\n    </tr>\n    <tr>\n      <th>8</th>\n      <td>RAD</td>\n      <td>True</td>\n      <td>1</td>\n      <td>0.349933</td>\n    </tr>\n    <tr>\n      <th>1</th>\n      <td>ZN</td>\n      <td>True</td>\n      <td>1</td>\n      <td>0.049593</td>\n    </tr>\n    <tr>\n      <th>2</th>\n      <td>INDUS</td>\n      <td>True</td>\n      <td>1</td>\n      <td>0.012782</td>\n    </tr>\n    <tr>\n      <th>11</th>\n      <td>B</td>\n      <td>True</td>\n      <td>1</td>\n      <td>0.009247</td>\n    </tr>\n    <tr>\n      <th>6</th>\n      <td>AGE</td>\n      <td>True</td>\n      <td>1</td>\n      <td>0.005149</td>\n    </tr>\n  </tbody>\n</table>\n</div>"
     },
     "execution_count": 1399,
     "metadata": {},
     "output_type": "execute_result"
    }
   ],
   "source": [
    "# Method to get the coefficient values\n",
    "\n",
    "def find(x):\n",
    "    return lasso_coeff_dict[x]\n",
    "\n",
    "# Assign features to a temp dataframe for further display in the bar plot\n",
    "# coef bigger than 0\n",
    "\n",
    "temp2_df = pd.DataFrame(list(zip( name_data, rfe.support_, rfe.ranking_)), columns=['Features', 'rfe_support', 'rfe_ranking'])\n",
    "temp2_df = temp2_df.loc[temp2_df['rfe_support'] == True]\n",
    "temp2_df.reset_index(drop=True, inplace=True)\n",
    "\n",
    "temp2_df['Coefficient'] = temp2_df['Features'].apply(find)\n",
    "temp2_df = temp2_df[temp2_df['Coefficient']>0]\n",
    "temp2_df = temp2_df.sort_values(by=['Coefficient'], ascending=False)\n",
    "temp2_df"
   ],
   "metadata": {
    "collapsed": false,
    "pycharm": {
     "name": "#%%\n"
    }
   }
  },
  {
   "cell_type": "code",
   "execution_count": 1400,
   "outputs": [
    {
     "data": {
      "text/plain": "<Figure size 1440x1440 with 1 Axes>",
      "image/png": "[encoded data removed]"
     },
     "metadata": {
      "needs_background": "light"
     },
     "output_type": "display_data"
    }
   ],
   "source": [
    "# bar plot to determine the variables that would affect pricing most using ridge regression\n",
    "\n",
    "plt.figure(figsize=(20,20))\n",
    "plt.subplot(4,3,1)\n",
    "sns.barplot(y = 'Features', x='Coefficient', palette='Set1', data = temp2_df)\n",
    "plt.show()"
   ],
   "metadata": {
    "collapsed": false,
    "pycharm": {
     "name": "#%%\n"
    }
   }
  },
  {
   "cell_type": "markdown",
   "source": [
    "The above graph displays the top 10 variables based on the Lasso Regression model that are significant in predicting the price\n",
    "of a house."
   ],
   "metadata": {
    "collapsed": false
   }
  },
  {
   "cell_type": "markdown",
   "source": [
    "## Conclusion :\n",
    "\n",
    "- The r2 score in case of Ridge and Lasso are:\n",
    "    - Ridge - 0.0666072405198308\n",
    "    - Lasso - 0.2886374044035158\n",
    "\n",
    "- The Mean Squared error in case of Ridge and Lasso are:\n",
    "    - Ridge - 20.174166081762703\n",
    "    - Lasso - 15.375250131477127\n",
    "\n",
    "\n",
    "- The r2 score of Lasso is slightly higher than that of Ridge,and the Mean Squared Error of Lasso is slightly lower than that of Ridge\n",
    "\n",
    "- None of the two methods helps in feature reduction (no coefficient value became 0)\n",
    "\n",
    "- Based on Lasso, the factors that generally affect the price (from higher to lower) are the RM,CHAS,RAD,ZN,INDUS,B and AGE\n",
    "\n",
    "Therefore, the variables predicted by Lasso in the above bar chart as significant variables for predicting the\n",
    "price of a house."
   ],
   "metadata": {
    "collapsed": false
   }
  },
  {
   "cell_type": "code",
   "execution_count": 1400,
   "outputs": [],
   "source": [],
   "metadata": {
    "collapsed": false,
    "pycharm": {
     "name": "#%%\n"
    }
   }
  }
 ],
 "metadata": {
  "kernelspec": {
   "display_name": "Python 3",
   "language": "python",
   "name": "python3"
  },
  "language_info": {
   "codemirror_mode": {
    "name": "ipython",
    "version": 2
   },
   "file_extension": ".py",
   "mimetype": "text/x-python",
   "name": "python",
   "nbconvert_exporter": "python",
   "pygments_lexer": "ipython2",
   "version": "2.7.6"
  }
 },
 "nbformat": 4,
 "nbformat_minor": 0
}